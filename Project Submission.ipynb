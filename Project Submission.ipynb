{
 "cells": [
  {
   "cell_type": "markdown",
   "id": "0dc4d7ba",
   "metadata": {},
   "source": [
    "# Bank Heist Project Submission"
   ]
  },
  {
   "cell_type": "markdown",
   "id": "6f45e6fe",
   "metadata": {},
   "source": [
    "**Description**\n",
    "\n",
    "Given a list of bank, their locations, the amount of money each bank holds, and the amount of time it would take to rob each bank; apply your knowledge of algorithms to make as much profit as possible!"
   ]
  },
  {
   "cell_type": "markdown",
   "id": "55fe7d14",
   "metadata": {},
   "source": [
    "**Design a solution that finds a list of banks that when robbed will maximize your profit, while following these constraints:**\n",
    "\n",
    "- Total time for robbery cannot exceed **24 hours**. This includes travel time between banks + time it takes to rob the bank + time it takes to get to the helicopter escape zone\n",
    "\n",
    "- Travel speed from one bank to another is **30 km/h**\n",
    "    - Use the x and y coordinates to calculate the distance (in km) between banks\n",
    "    - Use the distance and travel speed to calculate the amount of time it takes to get from one bank to another\n",
    "\n",
    "- Solution must run under **3 minutes**\n",
    "\n",
    "- You can start anywhere, but you have to end at the **helicopter escape zone** located at coordinates **(0,0)**"
   ]
  },
  {
   "cell_type": "markdown",
   "id": "86bfddb8",
   "metadata": {},
   "source": [
    "**Hints**\n",
    "\n",
    "Most of the design paradigms you saw in class will work for this. Start with something that's easier (brute-force or greedy algorithm) and then work towards a better design once it works:\n",
    "\n",
    "    - Divide-and-conquer\n",
    "    - Brute Force\n",
    "    - Greedy Algorithm\n",
    "    - Dynamic Programming\n",
    "    - Backtracking\n",
    "    - Breadth-first & Depth-first search\n",
    "Some we haven't covered:\n",
    "\n",
    "    - Branch & Bound\n",
    "    - Prune & Search\n",
    "    \n",
    "Because there are too many banks at each step, you will need to select only some candidates to explore.\n",
    "\n",
    "If you find yourself using a nearest-neighbors type of approach, consider using a KD-Tree or a Ball Tree to speed it up.\n",
    "\n",
    "There are good implementations of KD-Trees and nearest neighbours in scipy, sklearn and this [library](https://github.com/lmcinnes/pynndescent)\n",
    "\n",
    "You can work your algorithm backwards (starting at the end and backing up to the starting point) or forwards (finding a starting point and looping until there is no time left). They will lead to different designs and results."
   ]
  },
  {
   "cell_type": "markdown",
   "id": "9cd5334f",
   "metadata": {},
   "source": [
    "## Step 1: Imports\n",
    "\n",
    "You can import the libraries you intend on using here or as you go along."
   ]
  },
  {
   "cell_type": "code",
   "execution_count": 1,
   "id": "59fc734d",
   "metadata": {
    "tags": []
   },
   "outputs": [],
   "source": [
    "import numpy as np\n",
    "import pandas as pd\n",
    "import matplotlib.pyplot as plt\n",
    "import time"
   ]
  },
  {
   "cell_type": "markdown",
   "id": "56317788",
   "metadata": {},
   "source": [
    "## Step 2: Load Data\n",
    "\n",
    "The `bank_data.csv` file is located in the **data** folder. Make sure you use the correct path."
   ]
  },
  {
   "cell_type": "code",
   "execution_count": 2,
   "id": "4a308a28",
   "metadata": {
    "tags": []
   },
   "outputs": [],
   "source": [
    "df = pd.read_csv('data/bank_data.csv')"
   ]
  },
  {
   "cell_type": "markdown",
   "id": "68db7233",
   "metadata": {},
   "source": [
    "## Step 3: Data Exploration\n",
    "\n",
    "Explore the data set to get a general understanding of what you're working with.\n",
    "\n",
    "Feel free to add additional cells, and remove the ones you don't use."
   ]
  },
  {
   "cell_type": "code",
   "execution_count": 3,
   "id": "aabb837f-380f-4a77-97bf-4ae9e41d72a8",
   "metadata": {
    "tags": []
   },
   "outputs": [
    {
     "name": "stdout",
     "output_type": "stream",
     "text": [
      "<class 'pandas.core.frame.DataFrame'>\n",
      "RangeIndex: 10000 entries, 0 to 9999\n",
      "Data columns (total 5 columns):\n",
      " #   Column        Non-Null Count  Dtype  \n",
      "---  ------        --------------  -----  \n",
      " 0   id            10000 non-null  int64  \n",
      " 1   x_coordinate  10000 non-null  float64\n",
      " 2   y_coordinate  10000 non-null  float64\n",
      " 3   money         10000 non-null  int64  \n",
      " 4   time (hr)     10000 non-null  float64\n",
      "dtypes: float64(3), int64(2)\n",
      "memory usage: 390.8 KB\n"
     ]
    }
   ],
   "source": [
    "df.info()"
   ]
  },
  {
   "cell_type": "code",
   "execution_count": 4,
   "id": "ff9381ac-605c-4fe1-be66-173e228538a0",
   "metadata": {
    "tags": []
   },
   "outputs": [
    {
     "data": {
      "text/html": [
       "<div>\n",
       "<style scoped>\n",
       "    .dataframe tbody tr th:only-of-type {\n",
       "        vertical-align: middle;\n",
       "    }\n",
       "\n",
       "    .dataframe tbody tr th {\n",
       "        vertical-align: top;\n",
       "    }\n",
       "\n",
       "    .dataframe thead th {\n",
       "        text-align: right;\n",
       "    }\n",
       "</style>\n",
       "<table border=\"1\" class=\"dataframe\">\n",
       "  <thead>\n",
       "    <tr style=\"text-align: right;\">\n",
       "      <th></th>\n",
       "      <th>id</th>\n",
       "      <th>x_coordinate</th>\n",
       "      <th>y_coordinate</th>\n",
       "      <th>money</th>\n",
       "      <th>time (hr)</th>\n",
       "    </tr>\n",
       "  </thead>\n",
       "  <tbody>\n",
       "    <tr>\n",
       "      <th>count</th>\n",
       "      <td>10000.00000</td>\n",
       "      <td>10000.000000</td>\n",
       "      <td>10000.000000</td>\n",
       "      <td>10000.000000</td>\n",
       "      <td>10000.000000</td>\n",
       "    </tr>\n",
       "    <tr>\n",
       "      <th>mean</th>\n",
       "      <td>4999.50000</td>\n",
       "      <td>-0.016431</td>\n",
       "      <td>0.037561</td>\n",
       "      <td>18430.320000</td>\n",
       "      <td>0.750245</td>\n",
       "    </tr>\n",
       "    <tr>\n",
       "      <th>std</th>\n",
       "      <td>2886.89568</td>\n",
       "      <td>2.889568</td>\n",
       "      <td>2.881789</td>\n",
       "      <td>25382.131155</td>\n",
       "      <td>0.433541</td>\n",
       "    </tr>\n",
       "    <tr>\n",
       "      <th>min</th>\n",
       "      <td>0.00000</td>\n",
       "      <td>-4.999292</td>\n",
       "      <td>-4.999928</td>\n",
       "      <td>100.000000</td>\n",
       "      <td>0.000032</td>\n",
       "    </tr>\n",
       "    <tr>\n",
       "      <th>25%</th>\n",
       "      <td>2499.75000</td>\n",
       "      <td>-2.513854</td>\n",
       "      <td>-2.415033</td>\n",
       "      <td>900.000000</td>\n",
       "      <td>0.373141</td>\n",
       "    </tr>\n",
       "    <tr>\n",
       "      <th>50%</th>\n",
       "      <td>4999.50000</td>\n",
       "      <td>-0.024904</td>\n",
       "      <td>0.010442</td>\n",
       "      <td>5800.000000</td>\n",
       "      <td>0.749218</td>\n",
       "    </tr>\n",
       "    <tr>\n",
       "      <th>75%</th>\n",
       "      <td>7499.25000</td>\n",
       "      <td>2.461754</td>\n",
       "      <td>2.540303</td>\n",
       "      <td>26900.000000</td>\n",
       "      <td>1.122812</td>\n",
       "    </tr>\n",
       "    <tr>\n",
       "      <th>max</th>\n",
       "      <td>9999.00000</td>\n",
       "      <td>4.999851</td>\n",
       "      <td>4.999626</td>\n",
       "      <td>102300.000000</td>\n",
       "      <td>1.499851</td>\n",
       "    </tr>\n",
       "  </tbody>\n",
       "</table>\n",
       "</div>"
      ],
      "text/plain": [
       "                id  x_coordinate  y_coordinate          money     time (hr)\n",
       "count  10000.00000  10000.000000  10000.000000   10000.000000  10000.000000\n",
       "mean    4999.50000     -0.016431      0.037561   18430.320000      0.750245\n",
       "std     2886.89568      2.889568      2.881789   25382.131155      0.433541\n",
       "min        0.00000     -4.999292     -4.999928     100.000000      0.000032\n",
       "25%     2499.75000     -2.513854     -2.415033     900.000000      0.373141\n",
       "50%     4999.50000     -0.024904      0.010442    5800.000000      0.749218\n",
       "75%     7499.25000      2.461754      2.540303   26900.000000      1.122812\n",
       "max     9999.00000      4.999851      4.999626  102300.000000      1.499851"
      ]
     },
     "execution_count": 4,
     "metadata": {},
     "output_type": "execute_result"
    }
   ],
   "source": [
    "df.describe()"
   ]
  },
  {
   "cell_type": "markdown",
   "id": "3ba2022c",
   "metadata": {},
   "source": [
    "## Step 4: Solution \n",
    "\n",
    "Your solution must provide:\n",
    "\n",
    "- A list of bank IDs in order that you rob them\n",
    "- Total amount you were able to rob\n",
    "- Time it took to rob + escape\n",
    "- The execution time for your code to run\n",
    "\n",
    "**Important: Your solution must respect all the constraints mentioned in the description.**\n",
    "\n",
    "Feel free to add additional cells, and remove the ones you don't use."
   ]
  },
  {
   "cell_type": "code",
   "execution_count": 5,
   "id": "e6f8a320",
   "metadata": {
    "tags": []
   },
   "outputs": [],
   "source": [
    "start_time = time.time()\n",
    "\n",
    "# I want to make the subsequent codes more concise, so I'm renaming the columns to shorter names.\n",
    "df = df.rename(columns={'x_coordinate': 'x', 'y_coordinate': 'y', 'time (hr)': 'time_rob'})"
   ]
  },
  {
   "cell_type": "code",
   "execution_count": 6,
   "id": "a129951f",
   "metadata": {
    "tags": []
   },
   "outputs": [],
   "source": [
    "# I'm adding a column to the df that shows the distance from the bank to the escape zone.\n",
    "# It's calculated by taking the square root of the sum of the squares of the distances between the coordinates.\n",
    "df['distance_escape'] = ((df['x'] - 0)**2 + (df['y'] - 0)**2)**0.5\n",
    "\n",
    "# Calculate the time it takes to get from the bank to the escape zone based on the distance.\n",
    "# The speed is 30 km/hour and the the time to the escape zone is the distance divided by the speed.\n",
    "# Put the time it takes to get to the escape zone from the bank in a column called 'time_escape'\n",
    "speed = 30\n",
    "df['time_escape'] = df['distance_escape'] / speed\n",
    "\n",
    "# Calculate the time that it takes to rob the place and get to the escape zone\n",
    "# and store it in a column called 'total_time'\n",
    "df['total_time'] = df['time_rob'] + df['time_escape']\n",
    "\n",
    "# Give each bank a score that is the amount of money it has divided by total_time\n",
    "# and store it in a column called 'score'\n",
    "df['score'] = df['money'] / df['total_time']\n",
    "\n",
    "# sort the values by score in descending order in a new df\n",
    "sorted_df = df.sort_values(by='score', ascending=False).reset_index()\n",
    "\n",
    "# I'm not sure why this gave me a new index column that had the exact same values as the ID column,\n",
    "# so I dropped the column called index\n",
    "sorted_df = sorted_df.drop('index', axis=1)\n",
    "\n",
    "# Add a column to the sorted df to store the time it took to get from the previous bank to the current bank.\n",
    "# We're starting from the bank at the top of the sorted df, so the distance to get to that bank is 0\n",
    "sorted_df['time_to_current_bank'] = 0"
   ]
  },
  {
   "cell_type": "code",
   "execution_count": 7,
   "id": "1ff3a028-e2be-46b4-b659-2d7b83ea529a",
   "metadata": {
    "tags": []
   },
   "outputs": [],
   "source": [
    "# Iterate through the DataFrame to calculate the time_to_current_bank\n",
    "\n",
    "for i in range(1, len(sorted_df)):\n",
    "    # Use iloc and i as the index minus one to locate the last bank\n",
    "    last_bank_coordinates = (sorted_df.iloc[i - 1]['x'], sorted_df.iloc[i - 1]['y'])\n",
    "    \n",
    "    # The distance to the last bank is the square root of the sum of the squares of the distances between the x and y coordinates\n",
    "    # of the current bank and the last bank.\n",
    "    distance_to_last_bank = ((sorted_df.iloc[i]['x'] - last_bank_coordinates[0])**2 + (sorted_df.iloc[i]['y'] - last_bank_coordinates[1])**2)**0.5\n",
    "    \n",
    "    # The time to get to the current bank is the distance between the last bank and the current bank divided by the speed\n",
    "    time_to_current_bank = distance_to_last_bank / speed\n",
    "    \n",
    "    # Add a column to the sorted df with the time it took to get from the last bank to the current bank\n",
    "    sorted_df.at[sorted_df.index[i], 'time_to_current_bank'] = time_to_current_bank"
   ]
  },
  {
   "cell_type": "code",
   "execution_count": 8,
   "id": "cee9024e-d982-440e-a3d2-cb66e29b9f4e",
   "metadata": {
    "tags": []
   },
   "outputs": [
    {
     "data": {
      "text/plain": [
       "count    10000.000000\n",
       "mean         0.171631\n",
       "std          0.082486\n",
       "min          0.000000\n",
       "25%          0.107355\n",
       "50%          0.169454\n",
       "75%          0.231517\n",
       "max          0.449136\n",
       "Name: time_to_current_bank, dtype: float64"
      ]
     },
     "execution_count": 8,
     "metadata": {},
     "output_type": "execute_result"
    }
   ],
   "source": [
    "sorted_df['time_to_current_bank'].describe()"
   ]
  },
  {
   "cell_type": "code",
   "execution_count": 9,
   "id": "6046b422-dda7-4e3d-aa88-45a945259742",
   "metadata": {},
   "outputs": [
    {
     "data": {
      "text/plain": [
       "141.6313571824802"
      ]
     },
     "execution_count": 9,
     "metadata": {},
     "output_type": "execute_result"
    }
   ],
   "source": [
    "24/0.169454"
   ]
  },
  {
   "cell_type": "code",
   "execution_count": 10,
   "id": "119a2721-2ccb-4b3d-b4c7-303e732acacc",
   "metadata": {
    "tags": []
   },
   "outputs": [
    {
     "data": {
      "text/html": [
       "<div>\n",
       "<style scoped>\n",
       "    .dataframe tbody tr th:only-of-type {\n",
       "        vertical-align: middle;\n",
       "    }\n",
       "\n",
       "    .dataframe tbody tr th {\n",
       "        vertical-align: top;\n",
       "    }\n",
       "\n",
       "    .dataframe thead th {\n",
       "        text-align: right;\n",
       "    }\n",
       "</style>\n",
       "<table border=\"1\" class=\"dataframe\">\n",
       "  <thead>\n",
       "    <tr style=\"text-align: right;\">\n",
       "      <th></th>\n",
       "      <th>id</th>\n",
       "      <th>x</th>\n",
       "      <th>y</th>\n",
       "      <th>money</th>\n",
       "      <th>time_rob</th>\n",
       "      <th>distance_escape</th>\n",
       "      <th>time_escape</th>\n",
       "      <th>total_time</th>\n",
       "      <th>score</th>\n",
       "      <th>time_to_current_bank</th>\n",
       "    </tr>\n",
       "  </thead>\n",
       "  <tbody>\n",
       "    <tr>\n",
       "      <th>0</th>\n",
       "      <td>5135</td>\n",
       "      <td>-0.404042</td>\n",
       "      <td>-0.433493</td>\n",
       "      <td>73900</td>\n",
       "      <td>0.009476</td>\n",
       "      <td>0.592592</td>\n",
       "      <td>0.019753</td>\n",
       "      <td>0.029229</td>\n",
       "      <td>2.528345e+06</td>\n",
       "      <td>0.000000</td>\n",
       "    </tr>\n",
       "    <tr>\n",
       "      <th>1</th>\n",
       "      <td>8562</td>\n",
       "      <td>0.928673</td>\n",
       "      <td>-0.846349</td>\n",
       "      <td>79100</td>\n",
       "      <td>0.008579</td>\n",
       "      <td>1.256479</td>\n",
       "      <td>0.041883</td>\n",
       "      <td>0.050462</td>\n",
       "      <td>1.567521e+06</td>\n",
       "      <td>0.046507</td>\n",
       "    </tr>\n",
       "    <tr>\n",
       "      <th>2</th>\n",
       "      <td>433</td>\n",
       "      <td>-1.585902</td>\n",
       "      <td>0.009662</td>\n",
       "      <td>85300</td>\n",
       "      <td>0.016018</td>\n",
       "      <td>1.585932</td>\n",
       "      <td>0.052864</td>\n",
       "      <td>0.068882</td>\n",
       "      <td>1.238350e+06</td>\n",
       "      <td>0.088543</td>\n",
       "    </tr>\n",
       "    <tr>\n",
       "      <th>3</th>\n",
       "      <td>9546</td>\n",
       "      <td>-1.810721</td>\n",
       "      <td>-0.795421</td>\n",
       "      <td>75100</td>\n",
       "      <td>0.000788</td>\n",
       "      <td>1.977728</td>\n",
       "      <td>0.065924</td>\n",
       "      <td>0.066712</td>\n",
       "      <td>1.125730e+06</td>\n",
       "      <td>0.027863</td>\n",
       "    </tr>\n",
       "    <tr>\n",
       "      <th>4</th>\n",
       "      <td>6104</td>\n",
       "      <td>-0.943787</td>\n",
       "      <td>1.194650</td>\n",
       "      <td>94100</td>\n",
       "      <td>0.047608</td>\n",
       "      <td>1.522472</td>\n",
       "      <td>0.050749</td>\n",
       "      <td>0.098357</td>\n",
       "      <td>9.567229e+05</td>\n",
       "      <td>0.072357</td>\n",
       "    </tr>\n",
       "  </tbody>\n",
       "</table>\n",
       "</div>"
      ],
      "text/plain": [
       "     id         x         y  money  time_rob  distance_escape  time_escape  \\\n",
       "0  5135 -0.404042 -0.433493  73900  0.009476         0.592592     0.019753   \n",
       "1  8562  0.928673 -0.846349  79100  0.008579         1.256479     0.041883   \n",
       "2   433 -1.585902  0.009662  85300  0.016018         1.585932     0.052864   \n",
       "3  9546 -1.810721 -0.795421  75100  0.000788         1.977728     0.065924   \n",
       "4  6104 -0.943787  1.194650  94100  0.047608         1.522472     0.050749   \n",
       "\n",
       "   total_time         score  time_to_current_bank  \n",
       "0    0.029229  2.528345e+06              0.000000  \n",
       "1    0.050462  1.567521e+06              0.046507  \n",
       "2    0.068882  1.238350e+06              0.088543  \n",
       "3    0.066712  1.125730e+06              0.027863  \n",
       "4    0.098357  9.567229e+05              0.072357  "
      ]
     },
     "execution_count": 10,
     "metadata": {},
     "output_type": "execute_result"
    }
   ],
   "source": [
    "# The average time it takes to get from one bank to the next in the sorted df is 141.6313571824802\n",
    "# so, I'm assuming I won't be able to rob more than 150 banks in the sorted df\n",
    "\n",
    "df_first_150 = sorted_df.head(150)\n",
    "df_first_150.head()"
   ]
  },
  {
   "cell_type": "code",
   "execution_count": 13,
   "id": "05ec669d-fce5-4c28-8804-80fc7538f879",
   "metadata": {
    "tags": []
   },
   "outputs": [
    {
     "name": "stdout",
     "output_type": "stream",
     "text": [
      "Last bank robbed: 6528.0, Time to get to escape zone: 0.10789081425979515\n",
      "Total money stolen: 8241300.0\n",
      "Total time spent: 23.725663640940876\n",
      "Number of banks robbed: 116\n",
      "Robbed banks: [5135.0, 8562.0, 433.0, 9546.0, 6104.0, 9653.0, 5933.0, 1455.0, 1372.0, 5719.0, 557.0, 7544.0, 6254.0, 951.0, 6097.0, 3613.0, 5356.0, 8525.0, 8287.0, 613.0, 3914.0, 7560.0, 7064.0, 5610.0, 4789.0, 4287.0, 487.0, 5971.0, 7595.0, 3516.0, 8375.0, 3605.0, 4696.0, 3193.0, 1447.0, 7494.0, 7531.0, 8125.0, 2.0, 9241.0, 9881.0, 4610.0, 8436.0, 8469.0, 781.0, 1966.0, 7087.0, 7265.0, 3026.0, 4906.0, 9378.0, 6317.0, 7583.0, 3340.0, 3971.0, 839.0, 6535.0, 2639.0, 58.0, 5155.0, 3466.0, 4499.0, 6478.0, 9779.0, 1757.0, 7689.0, 5296.0, 5622.0, 6759.0, 7074.0, 5562.0, 3005.0, 8690.0, 1844.0, 6375.0, 865.0, 6216.0, 4422.0, 7772.0, 517.0, 670.0, 2346.0, 4234.0, 3297.0, 7665.0, 1684.0, 6740.0, 5563.0, 2458.0, 1976.0, 3798.0, 6281.0, 2331.0, 9049.0, 359.0, 8355.0, 2190.0, 6468.0, 9804.0, 2243.0, 9880.0, 7907.0, 5381.0, 4492.0, 488.0, 2028.0, 2226.0, 8477.0, 4807.0, 1860.0, 9736.0, 7801.0, 4762.0, 4627.0, 8503.0, 6528.0]\n"
     ]
    },
    {
     "data": {
      "image/png": "[encoded data removed]",
      "text/plain": [
       "<Figure size 640x480 with 1 Axes>"
      ]
     },
     "metadata": {},
     "output_type": "display_data"
    },
    {
     "name": "stdout",
     "output_type": "stream",
     "text": [
      "Elapsed time: 8111.684084177017 seconds\n"
     ]
    }
   ],
   "source": [
    "# Greedy algorithm:\n",
    "\n",
    "# Initialize an empty list to keep track of bank IDs\n",
    "robbed_banks = []\n",
    "\n",
    "def rob_banks(df, M):\n",
    "    '''\n",
    "    A greedy algorithm that appends all the banks\n",
    "    from the dataframe in sequential order\n",
    "    until there's no more time left\n",
    "    '''\n",
    "    # Initialize variables\n",
    "    total_money = 0\n",
    "    time_elapsed = 0\n",
    "    \n",
    "    # A for loop goes through the rows of the data frame\n",
    "    for i in range(len(df)):\n",
    "        row = df.iloc[i]\n",
    "        \n",
    "        # Check if going to the next bank exceeds the allowed time.\n",
    "        # If the amount of time that has already elapsed plus the time it took to get to the current bank,\n",
    "        # plus the time to it will take to get to the escape zone is greater than the maximum allowed time,\n",
    "        # add the amount of time it takes to get to the escape zone from the current bank and break the loop.\n",
    "        if time_elapsed + row['time_to_current_bank'] + row['time_rob'] + row['time_escape'] > M:\n",
    "            last_bank_robbed = df.iloc[i-1]['id']\n",
    "            time_to_escape = df.iloc[i-1]['time_escape']\n",
    "            print(f'Last bank robbed: {last_bank_robbed}, Time to get to escape zone: {time_to_escape}')\n",
    "            time_elapsed += time_to_escape\n",
    "            break\n",
    "            \n",
    "        # Add the bank to the list of robbed banks\n",
    "        robbed_banks.append(row['id'])\n",
    "    \n",
    "        # Update total money and time\n",
    "        total_money += row['money']\n",
    "        time_elapsed += row['time_rob'] + row['time_to_current_bank']\n",
    "        \n",
    "    print(f'Total money stolen: {total_money}')\n",
    "    print(f'Total time spent: {time_elapsed}')\n",
    "    print(f'Number of banks robbed: {len(robbed_banks)}')\n",
    "    print(f'Robbed banks: {robbed_banks}')\n",
    "    robbed_coordinates = df.loc[df['id'].isin(robbed_banks), ['x', 'y']]\n",
    "    \n",
    "    # Plot the coordinates\n",
    "    plt.scatter(df['x'], df['y'], label='All Banks', s=1)\n",
    "    plt.scatter(robbed_coordinates['x'], robbed_coordinates['y'], color='red', label='Robbed Banks')\n",
    "    plt.xlabel('X Coordinate')\n",
    "    plt.ylabel('Y Coordinate')\n",
    "    plt.title('Robbed Banks Scatter Plot')\n",
    "    plt.legend()\n",
    "    plt.show()\n",
    "\n",
    "rob_banks(df_first_150, 24)\n",
    "\n",
    "end_time = time.time()\n",
    "elapsed_time = end_time - start_time\n",
    "\n",
    "print(f\"Elapsed time: {elapsed_time} seconds\")"
   ]
  },
  {
   "cell_type": "markdown",
   "id": "c74e14fe",
   "metadata": {},
   "source": [
    "### Briefly explain your solution/approach, and how it works."
   ]
  },
  {
   "cell_type": "markdown",
   "id": "a5c30961-1ca2-4c4a-8af2-102d5de90dbc",
   "metadata": {},
   "source": [
    "The solution is a greedy algorithm that relies heavily on the datafame being sorted and filtered before running it. Five new columns are added: the distance of each bank from the escape zone, the time it takes to get from each bank to the escape zone, the total amount of time it takes to rob each bank and get to the escape zone, and a score given to each bank that is calculated by the amount of money the bank has, divided by the amount of time it takes to rob it and get back to the escape zone.The banks with the highest scores are the best banks to rob.\n",
    "\n",
    "The dataframe is then sorted in descending order, starting with the bank that has the highest score. In the sorted dataframe, yet another column is added: the amount of time it takes to get from one bank to the next, in sequential order.\n",
    "\n",
    "The greedy algorithm takes the sorted dataframe and simply takes all of the money it can until the time has run out, leaving just enough time to get to the escape zone. It goes through each row of the dataframe in sequential order and takes all of the money from the bank as long as there's still time left."
   ]
  },
  {
   "cell_type": "markdown",
   "id": "d61fba7a",
   "metadata": {},
   "source": [
    "## Step 5: Summary and Results"
   ]
  },
  {
   "cell_type": "markdown",
   "id": "679b4cf0",
   "metadata": {},
   "source": [
    "1. What is the total amount of money you were able to collect?\n"
   ]
  },
  {
   "cell_type": "markdown",
   "id": "f21582d3-656b-4f41-803b-9389254d22ff",
   "metadata": {},
   "source": [
    "I was able to collect $8,241,300.00"
   ]
  },
  {
   "cell_type": "markdown",
   "id": "5a66e503",
   "metadata": {},
   "source": [
    "2. What are the IDs of the banks you robbed, in order? Use the list from your solution."
   ]
  },
  {
   "cell_type": "code",
   "execution_count": 12,
   "id": "115003a2-7b31-42a8-acdd-3f7121b33ddf",
   "metadata": {
    "tags": []
   },
   "outputs": [
    {
     "name": "stdout",
     "output_type": "stream",
     "text": [
      "[5135.0, 8562.0, 433.0, 9546.0, 6104.0, 9653.0, 5933.0, 1455.0, 1372.0, 5719.0, 557.0, 7544.0, 6254.0, 951.0, 6097.0, 3613.0, 5356.0, 8525.0, 8287.0, 613.0, 3914.0, 7560.0, 7064.0, 5610.0, 4789.0, 4287.0, 487.0, 5971.0, 7595.0, 3516.0, 8375.0, 3605.0, 4696.0, 3193.0, 1447.0, 7494.0, 7531.0, 8125.0, 2.0, 9241.0, 9881.0, 4610.0, 8436.0, 8469.0, 781.0, 1966.0, 7087.0, 7265.0, 3026.0, 4906.0, 9378.0, 6317.0, 7583.0, 3340.0, 3971.0, 839.0, 6535.0, 2639.0, 58.0, 5155.0, 3466.0, 4499.0, 6478.0, 9779.0, 1757.0, 7689.0, 5296.0, 5622.0, 6759.0, 7074.0, 5562.0, 3005.0, 8690.0, 1844.0, 6375.0, 865.0, 6216.0, 4422.0, 7772.0, 517.0, 670.0, 2346.0, 4234.0, 3297.0, 7665.0, 1684.0, 6740.0, 5563.0, 2458.0, 1976.0, 3798.0, 6281.0, 2331.0, 9049.0, 359.0, 8355.0, 2190.0, 6468.0, 9804.0, 2243.0, 9880.0, 7907.0, 5381.0, 4492.0, 488.0, 2028.0, 2226.0, 8477.0, 4807.0, 1860.0, 9736.0, 7801.0, 4762.0, 4627.0, 8503.0, 6528.0]\n"
     ]
    }
   ],
   "source": [
    "print(robbed_banks)"
   ]
  },
  {
   "cell_type": "markdown",
   "id": "32255ec6",
   "metadata": {},
   "source": [
    "3. How much time did it take to rob all the banks + escape? Does your solution meet the 24 hour constraint? "
   ]
  },
  {
   "cell_type": "markdown",
   "id": "2668869a-d8d5-4563-aeaa-ead95c66d24b",
   "metadata": {},
   "source": [
    "It took 23.72192814520018 hours to rob all of the banks and escape. It meets the 24-hour constraint by keeping track of the amount of time it's taken to get from one bank to the next and rob it. Once there's not enough time left to get to the next bank, rob it, and get to the escape zone, the time that it takes to get from the current bank to the escape zone is added to the timer."
   ]
  },
  {
   "cell_type": "markdown",
   "id": "b4781639",
   "metadata": {},
   "source": [
    "4. What is the execution time of your solution? Does your solution run in 3 minutes or less?"
   ]
  },
  {
   "cell_type": "markdown",
   "id": "a99f7c99-4137-46ec-986f-e97c980e1303",
   "metadata": {},
   "source": [
    "The total solution runs for 3.2403199672698975 seconds. I included the amount of time it takes to filter and sort the df, since that is a major part of the solution."
   ]
  },
  {
   "cell_type": "markdown",
   "id": "630fa727-3c2d-4749-aee8-0fc467e5a716",
   "metadata": {
    "tags": []
   },
   "source": [
    "### A Quick Note"
   ]
  },
  {
   "cell_type": "markdown",
   "id": "6edc80ec-2296-4414-a0f5-ed99849fd149",
   "metadata": {},
   "source": [
    "If I can add an extra note here, I'm somewhat disappointed because, as soon as I finished this solution, I started to better understand the concepts of dynamic programming. I think that dynamic programming would provide an optimal solution to the problem (it's my understanding that this is what it's designed to do); however, I haven't understood it well enough yet to be able to implement it yet."
   ]
  },
  {
   "cell_type": "code",
   "execution_count": null,
   "id": "2382660a-ea83-4787-a8f9-d7cab99aec07",
   "metadata": {},
   "outputs": [],
   "source": []
  }
 ],
 "metadata": {
  "kernelspec": {
   "display_name": "Python 3 (ipykernel)",
   "language": "python",
   "name": "python3"
  },
  "language_info": {
   "codemirror_mode": {
    "name": "ipython",
    "version": 3
   },
   "file_extension": ".py",
   "mimetype": "text/x-python",
   "name": "python",
   "nbconvert_exporter": "python",
   "pygments_lexer": "ipython3",
   "version": "3.11.5"
  }
 },
 "nbformat": 4,
 "nbformat_minor": 5
}
